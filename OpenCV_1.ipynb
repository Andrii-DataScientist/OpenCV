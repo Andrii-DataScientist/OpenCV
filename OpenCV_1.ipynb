{
 "cells": [
  {
   "cell_type": "markdown",
   "metadata": {},
   "source": [
    "### Objectives:\n",
    "The objective of this lesson is for you to dip your toes into the OpenCV library. We’ll be using OpenCV inside the vast majority of lessons in this course, so you’ll want to familiarize yourself with the library quickly. By the end of this lesson you’ll be able to:\n",
    "\n",
    "- Load an image off disk using the cv2.imread  function.\n",
    "- Display the image on your screen using cv2.imshow .\n",
    "- Write your image back to disk in a different image file format using cv2.imwrite .\n",
    "- Use the command line to execute Python scripts."
   ]
  },
  {
   "cell_type": "code",
   "execution_count": null,
   "metadata": {},
   "outputs": [],
   "source": [
    "# import the necessary package\n",
    "import cv2\n",
    "\n",
    "# load the image and show some basic information on it\n",
    "image = cv2.imread('giraffe.png')\n",
    "print(\"width: %d pixels\" % (image.shape[1]))\n",
    "print(\"height: %d pixels\" % (image.shape[0]))\n",
    "print(\"channels: %d\" % (image.shape[2]))\n",
    " \n",
    "# show the image and wait for a keypress\n",
    "cv2.imshow(\"Image\", image)\n",
    "cv2.waitKey(0)\n",
    "# save the image -- OpenCV handles converting filetypes\n",
    "# automatically\n",
    "cv2.imwrite(\"newimage.jpg\", image)"
   ]
  },
  {
   "cell_type": "markdown",
   "metadata": {},
   "source": [
    "OpenCV has automatically converted the PNG image to JPG for us! No further effort is needed on our part to convert between image formats."
   ]
  },
  {
   "cell_type": "markdown",
   "metadata": {},
   "source": [
    "### Objectives:\n",
    "In this section we are going to review the building blocks of an image — the pixel. We’ll discuss exactly what a pixel is, how pixels are used to form an image, and then how to access and manipulate pixels in OpenCV. By the end of this lesson you’ll:\n",
    "\n",
    "- Have a full understanding of what a “pixel” is.\n",
    "- Understand the coordinate system of an image.\n",
    "- Have the ability to access the Red, Green, and Blue (RGB) values of a pixel…\n",
    "- …Along with set the RGB values of a pixel.\n",
    "- Have a gentle introduction to extracting regions from an image."
   ]
  },
  {
   "cell_type": "markdown",
   "metadata": {},
   "source": [
    "Each of the three Red, Green, and Blue colors are represented by an integer in the range 0 to 255, which indicates how “much” of the color there is. Given that the pixel value only needs to be in the range [0, 255] we normally use an 8-bit unsigned integer to represent each color intensity.\n",
    "\n",
    "We then combine these values into a RGB tuple in the form (red, green, blue) . This tuple represents our color.\n",
    "\n",
    "To construct a white color, we would fill each of the red, green, and blue buckets completely up, like this: (255, 255, 255) — since white is the presence of all color.\n",
    "\n",
    "Then, to create a black color, we would empty each of the buckets out: (0, 0, 0) — since black is the absence of color.\n",
    "\n",
    "To create a pure red color, we would fill up the red bucket (and only the red bucket) up completely: (255, 0, 0) ."
   ]
  },
  {
   "cell_type": "code",
   "execution_count": null,
   "metadata": {},
   "outputs": [],
   "source": [
    "# USAGE\n",
    "# python getting_and_setting.py --image florida_trip.png\n",
    "\n",
    "# import the necessary packages\n",
    "import argparse\n",
    "import cv2\n",
    "\n",
    "# construct the argument parser and parse the arguments\n",
    "ap = argparse.ArgumentParser()\n",
    "ap.add_argument(\"-i\", \"--image\", required=True, help=\"Path to the image\")\n",
    "args = vars(ap.parse_args())\n",
    "\n",
    "# load the image, grab its dimensions, and show it\n",
    "image = cv2.imread(args[\"image\"])\n",
    "(h, w) = image.shape[:2]\n",
    "cv2.imshow(\"Original\", image)\n",
    "\n",
    "# images are just NumPy arrays. The top-left pixel can be found at (0, 0)\n",
    "(b, g, r) = image[0, 0]\n",
    "print(\"Pixel at (0, 0) - Red: {r}, Green: {g}, Blue: {b}\".format(r=r, g=g, b=b))\n",
    "\n",
    "# now, let's change the value of the pixel at (0, 0) and make it red\n",
    "image[0, 0] = (0, 0, 255)\n",
    "(b, g, r) = image[111, 225]\n",
    "print(\"Pixel at (0, 0) - Red: {r}, Green: {g}, Blue: {b}\".format(r=r, g=g, b=b))\n",
    "\n",
    "# compute the center of the image, which is simply the width and height\n",
    "# divided by two\n",
    "(cX, cY) = (w // 2, h // 2)\n",
    "\n",
    "# since we are using NumPy arrays, we can apply slicing and grab large chunks\n",
    "# of the image -- let's grab the top-left corner\n",
    "tl = image[0:cY, 0:cX]\n",
    "cv2.imshow(\"Top-Left Corner\", tl)\n",
    "\n",
    "# in a similar fashion, let's grab the top-right, bottom-right, and bottom-left\n",
    "# corners and dispaly them\n",
    "tr = image[0:cY, cX:w]\n",
    "br = image[cY:h, cX:w]\n",
    "bl = image[cY:h, 0:cX]\n",
    "cv2.imshow(\"Top-Right Corner\", tr)\n",
    "cv2.imshow(\"Bottom-Right Corner\", br)\n",
    "cv2.imshow(\"Bottom-Left Corner\", bl)\n",
    "\n",
    "# now let's make the top-left corner of the original image green\n",
    "image[0:cY, 0:cX] = (0, 255, 0)\n",
    "\n",
    "# Show our updated image\n",
    "cv2.imshow(\"Updated\", image)\n",
    "cv2.waitKey(0)"
   ]
  },
  {
   "cell_type": "code",
   "execution_count": null,
   "metadata": {
    "scrolled": true
   },
   "outputs": [],
   "source": [
    "%%bash\n",
    "python image_basics/getting_and_setting.py --image image_basics/florida_trip.png"
   ]
  },
  {
   "cell_type": "markdown",
   "metadata": {},
   "source": [
    "### Objectives:\n",
    "- The main objective of this module is to become familiar with the cv2.line , cv2.rectangle , and cv2.circle  functions."
   ]
  },
  {
   "cell_type": "code",
   "execution_count": null,
   "metadata": {},
   "outputs": [],
   "source": [
    "\n",
    "# python drawing.py\n",
    "\n",
    "# import the necessary packages\n",
    "import numpy as np\n",
    "import cv2\n",
    "\n",
    "# initialize our canvas as a 300x300 with 3 channels, Red, Green,\n",
    "# and Blue, with a black background\n",
    "canvas = np.zeros((300, 300, 3), dtype=\"uint8\")\n",
    "\n",
    "# draw a green line from the top-left corner of our canvas to the\n",
    "# bottom-right\n",
    "green = (0, 255, 0)\n",
    "cv2.line(canvas, (0, 0), (300, 300), green)\n",
    "cv2.imshow(\"Canvas\", canvas)\n",
    "cv2.waitKey(0)\n",
    "\n",
    "# now, draw a 3 pixel thick red line from the top-right corner to the\n",
    "# bottom-left\n",
    "red = (0, 0, 255)\n",
    "cv2.line(canvas, (300, 0), (0, 300), red, 3)\n",
    "cv2.imshow(\"Canvas\", canvas)\n",
    "cv2.waitKey(0)\n",
    "\n",
    "# draw a green 50x50 pixel square, starting at 10x10 and ending at 60x60\n",
    "cv2.rectangle(canvas, (10, 10), (60, 60), green)\n",
    "cv2.imshow(\"Canvas\", canvas)\n",
    "cv2.waitKey(0)\n",
    "\n",
    "# draw another rectangle, this time we'll make it red and 5 pixels thick\n",
    "cv2.rectangle(canvas, (50, 200), (200, 225), red, 5)\n",
    "cv2.imshow(\"Canvas\", canvas)\n",
    "cv2.waitKey(0)\n",
    "\n",
    "# let's draw one last rectangle: blue and filled in\n",
    "blue = (255, 0, 0)\n",
    "cv2.rectangle(canvas, (200, 50), (225, 125), blue, -1)\n",
    "cv2.imshow(\"Canvas\", canvas)\n",
    "cv2.waitKey(0)\n",
    "\n",
    "# reset our canvas and draw a white circle at the center of the canvas with\n",
    "# increasing radii - from 25 pixels to 150 pixels\n",
    "canvas = np.zeros((300, 300, 3), dtype=\"uint8\")\n",
    "(centerX, centerY) = (canvas.shape[1] // 2, canvas.shape[0] // 2)\n",
    "white = (255, 255, 255)\n",
    "\n",
    "for r in range(0, 175, 25):\n",
    "\tcv2.circle(canvas, (centerX, centerY), r, white)\n",
    "\n",
    "# show our work of art\n",
    "cv2.imshow(\"Canvas\", canvas)\n",
    "cv2.waitKey(0)\n",
    "\n",
    "# let's go crazy and draw 25 random circles\n",
    "for i in range(0, 25):\n",
    "\t# randomly generate a radius size between 5 and 200, generate a random\n",
    "\t# color, and then pick a random point on our canvas where the circle\n",
    "\t# will be drawn\n",
    "\tradius = np.random.randint(5, high=200)\n",
    "\tcolor = np.random.randint(0, high=256, size = (3,)).tolist()\n",
    "\tpt = np.random.randint(0, high=300, size = (2,))\n",
    "\n",
    "\t# draw our random circle\n",
    "\tcv2.circle(canvas, tuple(pt), radius, color, -1)\n",
    "\n",
    "# Show our masterpiece\n",
    "cv2.imshow(\"Canvas\", canvas)\n",
    "cv2.waitKey(0)\n",
    "\n",
    "# load the image of Adrian in Florida\n",
    "image = cv2.imread(\"florida_trip.png\")\n",
    "\n",
    "# draw a circle around my face, two filled in circles covering my eyes, and\n",
    "# a rectangle surrounding my mouth\n",
    "cv2.circle(image, (168, 188), 90, (0, 0, 255), 2)\n",
    "cv2.circle(image, (150, 164), 10, (0, 0, 255), -1)\n",
    "cv2.circle(image, (192, 174), 10, (0, 0, 255), -1)\n",
    "cv2.rectangle(image, (134, 200), (186, 218), (0, 0, 255), -1)\n",
    "\n",
    "# show the output image\n",
    "cv2.imshow(\"Ouput\", image)\n",
    "cv2.waitKey(0)\n"
   ]
  },
  {
   "cell_type": "code",
   "execution_count": null,
   "metadata": {},
   "outputs": [],
   "source": [
    "%%bash\n",
    "python drawing/drawing.py --image drawing/florida_trip.png"
   ]
  },
  {
   "cell_type": "markdown",
   "metadata": {},
   "source": [
    "### Objectives:\n",
    "- To understand how to translate an image using OpenCV."
   ]
  },
  {
   "cell_type": "code",
   "execution_count": null,
   "metadata": {},
   "outputs": [],
   "source": [
    "import sys\n",
    "!{sys.executable} -m pip install imutils      # library download exactly in Jupiter shell"
   ]
  },
  {
   "cell_type": "code",
   "execution_count": null,
   "metadata": {},
   "outputs": [],
   "source": [
    "# USAGE\n",
    "# python translate.py --image grand_canyon.png\n",
    "\n",
    "# import the necessary packages\n",
    "import numpy as np\n",
    "import argparse\n",
    "import imutils\n",
    "import cv2\n",
    "\n",
    "# construct the argument parser and parse the arguments\n",
    "ap = argparse.ArgumentParser()\n",
    "ap.add_argument(\"-i\", \"--image\", required=True, help=\"Path to the image\")\n",
    "args = vars(ap.parse_args())\n",
    "\n",
    "# load the image and show it\n",
    "image = cv2.imread(args[\"image\"])\n",
    "cv2.imshow(\"Original\", image)\n",
    "\n",
    "# NOTE: Translating (shifting) an image is given by a NumPy matrix in\n",
    "# the form:\n",
    "#\t[[1, 0, shiftX], [0, 1, shiftY]]\n",
    "# You simply need to specify how many pixels you want to shift the image\n",
    "# in the X and Y direction -- let's translate the image 25 pixels to the\n",
    "# right and 50 pixels down\n",
    "M = np.float32([[1, 0, 25], [0, 1, 50]])\n",
    "shifted = cv2.warpAffine(image, M, (image.shape[1], image.shape[0]))\n",
    "cv2.imshow(\"Shifted Down and Right\", shifted)\n",
    "\n",
    "# now, let's shift the image 50 pixels to the left and 90 pixels up, we\n",
    "# accomplish this using negative values\n",
    "M = np.float32([[1, 0, -50], [0, 1, -90]])\n",
    "shifted = cv2.warpAffine(image, M, (image.shape[1], image.shape[0]))\n",
    "cv2.imshow(\"Shifted Up and Left\", shifted)\n",
    "\n",
    "# finally, let's use our helper function in imutils to shift the image down\n",
    "# 100 pixels\n",
    "shifted = imutils.translate(image, 0, 100)\n",
    "cv2.imshow(\"Shifted Down\", shifted)\n",
    "cv2.waitKey(0)"
   ]
  },
  {
   "cell_type": "code",
   "execution_count": null,
   "metadata": {},
   "outputs": [],
   "source": [
    "%%bash\n",
    "python translation/translate.py --image translation/grand_canyon.png"
   ]
  },
  {
   "cell_type": "markdown",
   "metadata": {},
   "source": [
    "### Objectives:\n",
    "- By the end of this topic you should understand rotation and know how to rotate an image using OpenCV."
   ]
  },
  {
   "cell_type": "code",
   "execution_count": null,
   "metadata": {},
   "outputs": [],
   "source": [
    "# USAGE\n",
    "# python rotate.py --image grand_canyon.png\n",
    "\n",
    "# import the necessary packages\n",
    "import numpy as np\n",
    "import argparse\n",
    "import imutils\n",
    "import cv2\n",
    "\n",
    "# construct the argument parser and parse the arguments\n",
    "ap = argparse.ArgumentParser()\n",
    "ap.add_argument(\"-i\", \"--image\", required=True, help=\"Path to the image\")\n",
    "args = vars(ap.parse_args())\n",
    "\n",
    "# load the image and show it\n",
    "image = cv2.imread(args[\"image\"])\n",
    "cv2.imshow(\"Original\", image)\n",
    "\n",
    "# grab the dimensions of the image and calculate the center of the image\n",
    "(h, w) = image.shape[:2]\n",
    "(cX, cY) = (w / 2, h / 2)\n",
    "\n",
    "# rotate our image by 45 degrees\n",
    "M = cv2.getRotationMatrix2D((cX, cY), 45, 1.0)\n",
    "rotated = cv2.warpAffine(image, M, (w, h))\n",
    "cv2.imshow(\"Rotated by 45 Degrees\", rotated)\n",
    "\n",
    "# rotate our image by -90 degrees\n",
    "M = cv2.getRotationMatrix2D((cX, cY), -90, 1.0)\n",
    "rotated = cv2.warpAffine(image, M, (w, h))\n",
    "cv2.imshow(\"Rotated by -90 Degrees\", rotated)\n",
    "\n",
    "# rotate our image around an arbitrary point rather than the center\n",
    "M = cv2.getRotationMatrix2D((cX - 50, cY - 50), 45, 1.0)\n",
    "rotated = cv2.warpAffine(image, M, (w, h))\n",
    "cv2.imshow(\"Rotated by Offset & 45 Degrees\", rotated)\n",
    "\n",
    "# finally, let's use our helper function in imutils to rotate the image by\n",
    "# 180 degrees (flipping it upside down)\n",
    "rotated = imutils.rotate(image, 180)\n",
    "cv2.imshow(\"Rotated by 180 Degrees\", rotated)\n",
    "cv2.waitKey(0)"
   ]
  },
  {
   "cell_type": "code",
   "execution_count": null,
   "metadata": {},
   "outputs": [],
   "source": [
    "(b, g, r) = image[335, 254]\n",
    "print(\"Pixel at (0, 0) - Red: {r}, Green: {g}, Blue: {b}\".format(r=r, g=g, b=b))"
   ]
  },
  {
   "cell_type": "code",
   "execution_count": null,
   "metadata": {},
   "outputs": [],
   "source": [
    "%%bash\n",
    "python rotation/rotate.py --image rotation/wynn.png"
   ]
  },
  {
   "cell_type": "code",
   "execution_count": null,
   "metadata": {},
   "outputs": [],
   "source": [
    "rotated = imutils.rotate(image, 110)\n",
    "(b, g, r) = rotated[312, 136]\n",
    "print(\"Pixel at (312, 136) - Red: {r}, Green: {g}, Blue: {b}\".format(r=r, g=g, b=b))\n",
    "\n"
   ]
  },
  {
   "cell_type": "code",
   "execution_count": null,
   "metadata": {},
   "outputs": [],
   "source": [
    "%%bash\n",
    "python rotation/rotate.py --image rotation/wynn.png"
   ]
  },
  {
   "cell_type": "code",
   "execution_count": null,
   "metadata": {},
   "outputs": [],
   "source": [
    "# load the image and show it\n",
    "image = cv2.imread(args[\"image\"])\n",
    "(h, w) = image.shape[:2]\n",
    "(cX, cY) = (w / 2, h / 2)\n",
    "M = cv2.getRotationMatrix2D((50, 60), 80, 1.0)\n",
    "rotated = cv2.warpAffine(image, M, (w, h))\n",
    "cv2.imshow(\"Rotated by 80 Degrees\", rotated)\n",
    "\n",
    "(b, g, r) = rotated[10, 10]\n",
    "print(\"Pixel at (312, 136) - Red: {r}, Green: {g}, Blue: {b}\".format(r=r, g=g, b=b))\n",
    "cv2.waitKey(0)"
   ]
  },
  {
   "cell_type": "code",
   "execution_count": null,
   "metadata": {},
   "outputs": [],
   "source": [
    "%%bash\n",
    "python rotation/rotate.py --image rotation/wynn.png"
   ]
  },
  {
   "cell_type": "markdown",
   "metadata": {},
   "source": [
    "### Objectives:\n",
    "- The primary objective of this topic is to understand how to resize an image using the OpenCV library."
   ]
  },
  {
   "cell_type": "code",
   "execution_count": null,
   "metadata": {},
   "outputs": [],
   "source": [
    "# python resize.py --image florida_trip_small.png\n",
    "\n",
    "# import the necessary packages\n",
    "import argparse\n",
    "import imutils\n",
    "import cv2\n",
    "\n",
    "# construct the argument parser and parse the arguments\n",
    "ap = argparse.ArgumentParser()\n",
    "ap.add_argument(\"-i\", \"--image\", required=True, help=\"Path to the image\")\n",
    "args = vars(ap.parse_args())\n",
    "\n",
    "# load the image and show it\n",
    "image = cv2.imread(args[\"image\"])\n",
    "cv2.imshow(\"Original\", image)\n",
    "\n",
    "# we need to keep in mind aspect ratio so the image does not look skewed\n",
    "# or distorted -- therefore, we calculate the ratio of the new image to\n",
    "# the old image. Let's make our new image have a width of 150 pixels\n",
    "r = 100 / image.shape[1]\n",
    "dim = (100, int(image.shape[0] * r))\n",
    "\n",
    "# perform the actual resizing of the image\n",
    "resized = cv2.resize(image, dim, interpolation=cv2.INTER_NEAREST)\n",
    "cv2.imshow(\"Resized (Width)\", resized)\n",
    "\n",
    "# what if we wanted to adjust the height of the image? -- we can apply\n",
    "# the same concept, again keeping in mind the aspect ratio, but instead\n",
    "# calculating the ratio based on height -- let's make the height of the\n",
    "# resized image 50 pixels\n",
    "r = 50.0 / image.shape[0]\n",
    "dim = (int(image.shape[1] * r), 50)\n",
    "\n",
    "# perform the resizing\n",
    "resized = cv2.resize(image, dim, interpolation=cv2.INTER_AREA)\n",
    "cv2.imshow(\"Resized (Height)\", resized)\n",
    "(b, g, r) = resized[0, 0]\n",
    "print(\"Pixel at (20, 74) - Red: {r}, Green: {g}, Blue: {b}\".format(r=r, g=g, b=b))\n",
    "cv2.waitKey(0)\n",
    "\n",
    "# of course, calculating the ratio each and every time we want to resize\n",
    "# an image is a real pain -- let's create a  function where we can specify\n",
    "# our target width or height, and have it take care of the rest for us.\n",
    "resized = imutils.resize(image, width=100)\n",
    "cv2.imshow(\"Resized via Function\", resized)\n",
    "cv2.waitKey(0)\n",
    "\n",
    "# construct the list of interpolation methods\n",
    "methods = [\n",
    "\t(\"cv2.INTER_NEAREST\", cv2.INTER_NEAREST),\n",
    "\t(\"cv2.INTER_LINEAR\", cv2.INTER_LINEAR),\n",
    "\t(\"cv2.INTER_AREA\", cv2.INTER_AREA),\n",
    "\t(\"cv2.INTER_CUBIC\", cv2.INTER_CUBIC),\n",
    "\t(\"cv2.INTER_LANCZOS4\", cv2.INTER_LANCZOS4)]\n",
    "\n",
    "# loop over the interpolation methods\n",
    "for (name, method) in methods:\n",
    "\t# increase the size of the image by 3x using the current interpolation\n",
    "\t# method\n",
    "\tresized = imutils.resize(image, width=image.shape[1] * 3, inter=method)\n",
    "\tcv2.imshow(\"Method: {}\".format(name), resized)\n",
    "\tcv2.waitKey(0)"
   ]
  },
  {
   "cell_type": "code",
   "execution_count": null,
   "metadata": {},
   "outputs": [],
   "source": [
    "r = 100 / image.shape[1]\n",
    "dim = (100, int(image.shape[0] * r))\n",
    "\n",
    "# perform the actual resizing of the image\n",
    "resized = cv2.resize(image, dim, interpolation=cv2.INTER_NEAREST)\n",
    "cv2.imshow(\"Resized (Width)\", resized)\n",
    "\n",
    "(b, g, r) = resized[74, 20]\n",
    "print(\"Pixel at (20, 74) - Red: {r}, Green: {g}, Blue: {b}\".format(r=r, g=g, b=b))"
   ]
  },
  {
   "cell_type": "code",
   "execution_count": null,
   "metadata": {},
   "outputs": [],
   "source": [
    "%%bash\n",
    "python resizing/resize.py --image resizing/florida_trip_small.png"
   ]
  },
  {
   "cell_type": "code",
   "execution_count": null,
   "metadata": {},
   "outputs": [],
   "source": [
    "r = 2* / image.shape[1]\n",
    "dim = (2 * image.shape[1], int(image.shape[0] * 2))\n",
    "\n",
    "# perform the actual resizing of the image\n",
    "resized = cv2.resize(image, dim, interpolation=cv2.INTER_CUBIC)\n",
    "cv2.imshow(\"Resized (Width)\", resized)\n",
    "\n",
    "(b, g, r) = resized[367, 170]\n",
    "print(\"Pixel at (170, 367) - Red: {r}, Green: {g}, Blue: {b}\".format(r=r, g=g, b=b))\n",
    "cv2.waitKey(0)"
   ]
  },
  {
   "cell_type": "code",
   "execution_count": null,
   "metadata": {},
   "outputs": [],
   "source": [
    "%%bash\n",
    "python resizing/resize.py --image resizing/florida_trip_small.png"
   ]
  },
  {
   "cell_type": "markdown",
   "metadata": {},
   "source": [
    "## Objectives:\n",
    "- In this lesson you will learn how to horizontally and vertically flip an image using the cv2.flip  function."
   ]
  },
  {
   "cell_type": "code",
   "execution_count": null,
   "metadata": {},
   "outputs": [],
   "source": [
    "# USAGE\n",
    "# python flipping.py --image florida_trip.png\n",
    "\n",
    "# import the necessary packages\n",
    "import argparse\n",
    "import cv2\n",
    "\n",
    "# construct the argument parser and parse the arguments\n",
    "ap = argparse.ArgumentParser()\n",
    "ap.add_argument(\"-i\", \"--image\", required=True, help = \"Path to the image\")\n",
    "args = vars(ap.parse_args())\n",
    "\n",
    "# load the image and show it\n",
    "image = cv2.imread(args[\"image\"])\n",
    "cv2.imshow(\"Original\", image)\n",
    "\n",
    "# flip the image horizontally\n",
    "flipped = cv2.flip(image, 1)\n",
    "cv2.imshow(\"Flipped Horizontally\", flipped)\n",
    "(b, g, r) = flipped[235, 259]\n",
    "print(\"Pixel at (259, 235) - Red: {r}, Green: {g}, Blue: {b}\".format(r=r, g=g, b=b))\n",
    "cv2.waitKey(0)\n",
    "\n",
    "# flip the image vertically\n",
    "flipped = cv2.flip(image, 0)\n",
    "cv2.imshow(\"Flipped Vertically\", flipped)\n",
    "\n",
    "# flip the image along both axes\n",
    "flipped = cv2.flip(image, -1)\n",
    "cv2.imshow(\"Flipped Horizontally & Vertically\", flipped)\n",
    "cv2.waitKey(0)"
   ]
  },
  {
   "cell_type": "code",
   "execution_count": 60,
   "metadata": {},
   "outputs": [
    {
     "name": "stdout",
     "output_type": "stream",
     "text": [
      "Pixel at (259, 235) - Red: 183, Green: 192, Blue: 189\n"
     ]
    }
   ],
   "source": [
    "%%bash\n",
    "python flipping/flipping.py --image flipping/florida_trip.png"
   ]
  },
  {
   "cell_type": "code",
   "execution_count": null,
   "metadata": {},
   "outputs": [],
   "source": [
    "# flip the image horizontally\n",
    "flipped = cv2.flip(image, 1)\n",
    "cv2.imshow(\"Flipped Horizontally\", flipped)\n",
    "\n",
    "rotated = imutils.rotate(flipped, 45)\n",
    "cv2.imshow(\"Rotated by 45 Degrees\", rotated)\n",
    "cv2.waitKey(0)\n",
    "\n",
    "# flip the image vertically\n",
    "flipped = cv2.flip(rotated, 0)\n",
    "cv2.imshow(\"Flipped Vertically\", flipped)\n",
    "(b, g, r) = flipped[189, 441]\n",
    "print(\"Pixel at (441, 189) - Red: {r}, Green: {g}, Blue: {b}\".format(r=r, g=g, b=b))\n",
    "cv2.waitKey(0)"
   ]
  },
  {
   "cell_type": "code",
   "execution_count": 62,
   "metadata": {},
   "outputs": [
    {
     "name": "stdout",
     "output_type": "stream",
     "text": [
      "Pixel at (441, 189) - Red: 18, Green: 19, Blue: 24\n"
     ]
    }
   ],
   "source": [
    "%%bash\n",
    "python flipping/flipping.py --image flipping/florida_trip.png"
   ]
  },
  {
   "cell_type": "markdown",
   "metadata": {},
   "source": [
    "## Objectives:\n",
    "- Our primary objective is to become very familiar and comfortable using NumPy array slicing to crop regions from an image."
   ]
  },
  {
   "cell_type": "code",
   "execution_count": null,
   "metadata": {},
   "outputs": [],
   "source": [
    "# import the necessary packages\n",
    "import cv2\n",
    "\n",
    "# load the image and show it\n",
    "image = cv2.imread(\"florida_trip.png\")\n",
    "cv2.imshow(\"Original\", image)\n",
    "\n",
    "# cropping an image is accomplished using simple NumPy array slices --\n",
    "# let's crop the face from the image\n",
    "two = image[124:212, 225:380]\n",
    "cv2.imshow(\"2\", two)\n",
    "cv2.waitKey(0)\n",
    "\n",
    "# ...and now let's crop the entire body\n",
    "three = image[173:235, 13:81]\n",
    "cv2.imshow(\"3\", three)\n",
    "cv2.waitKey(0)"
   ]
  },
  {
   "cell_type": "code",
   "execution_count": null,
   "metadata": {},
   "outputs": [],
   "source": [
    "%%bash\n",
    "python crop/crop.py"
   ]
  },
  {
   "cell_type": "markdown",
   "metadata": {},
   "source": [
    "## Objectives:\n",
    "This topic has two primary objectives:\n",
    "\n",
    "- To familarize ourselves with image addition and subtraction.\n",
    "- To understand the difference between OpenCV and NumPy image arithmetic operations."
   ]
  },
  {
   "cell_type": "code",
   "execution_count": null,
   "metadata": {},
   "outputs": [],
   "source": [
    "# USAGE\n",
    "# python arithmetic.py --image grand_canyon.png\n",
    "\n",
    "# import the necessary packages\n",
    "import numpy as np\n",
    "import argparse\n",
    "import cv2\n",
    "\n",
    "# construct the argument parser and parse the arguments\n",
    "ap = argparse.ArgumentParser()\n",
    "ap.add_argument(\"-i\", \"--image\", required=True, help=\"Path to the image\")\n",
    "args = vars(ap.parse_args())\n",
    "\n",
    "# load the image and show it\n",
    "image = cv2.imread(args[\"image\"])\n",
    "cv2.imshow(\"Original\", image)\n",
    "\n",
    "M = np.ones(image.shape, dtype = \"uint8\") * 75\n",
    "added = cv2.add(image, M)\n",
    "cv2.imshow(\"Added\", added)\n",
    "(b, g, r) = added[152, 61]\n",
    "print(\"Pixel at (61, 152) - Red: {r}, Green: {g}, Blue: {b}\".format(r=r, g=g, b=b))\n",
    "cv2.waitKey(0)"
   ]
  },
  {
   "cell_type": "code",
   "execution_count": 71,
   "metadata": {},
   "outputs": [
    {
     "name": "stdout",
     "output_type": "stream",
     "text": [
      "Pixel at (61, 152) - Red: 176, Green: 117, Blue: 99\n"
     ]
    }
   ],
   "source": [
    "%%bash\n",
    "python arithmetic/arithmetic.py --image arithmetic/grand_canyon.png"
   ]
  },
  {
   "cell_type": "markdown",
   "metadata": {},
   "source": [
    "## Objectives:\n",
    "By the end of this topic you’ll understand the four primary bitwise operations:\n",
    "\n",
    "- AND\n",
    "- OR\n",
    "- XOR\n",
    "- NOT"
   ]
  },
  {
   "cell_type": "code",
   "execution_count": null,
   "metadata": {},
   "outputs": [],
   "source": [
    "# import the necessary packages\n",
    "import numpy as np\n",
    "import cv2\n",
    "\n",
    "# first, let's draw a rectangle\n",
    "rectangle = np.zeros((300, 300), dtype = \"uint8\")\n",
    "cv2.rectangle(rectangle, (25, 25), (275, 275), 255, -1)\n",
    "cv2.imshow(\"Rectangle\", rectangle)\n",
    "\n",
    "# secondly, let's draw a circle\n",
    "circle = np.zeros((300, 300), dtype = \"uint8\")\n",
    "cv2.circle(circle, (150, 150), 150, 255, -1)\n",
    "cv2.imshow(\"Circle\", circle)\n",
    "\n",
    "# A bitwise 'AND' is only True when both rectangle and circle have\n",
    "# a value that is 'ON'. Simply put, the bitwise_and function\n",
    "# examines every pixel in rectangle and circle. If both pixels\n",
    "# have a value greater than zero, that pixel is turned 'ON' (i.e\n",
    "# set to 255 in the output image). If both pixels are not greater\n",
    "# than zero, then the output pixel is left 'OFF' with a value of 0.\n",
    "bitwiseAnd = cv2.bitwise_and(rectangle, circle)\n",
    "cv2.imshow(\"AND\", bitwiseAnd)\n",
    "cv2.waitKey(0)\n",
    "\n",
    "# A bitwise 'OR' examines every pixel in rectangle and circle. If\n",
    "# EITHER pixel in rectangle or circle is greater than zero, then\n",
    "# the output pixel has a value of 255, otherwise it is 0.\n",
    "bitwiseOr = cv2.bitwise_or(rectangle, circle)\n",
    "cv2.imshow(\"OR\", bitwiseOr)\n",
    "cv2.waitKey(0)\n",
    "\n",
    "# The bitwise 'XOR' is identical to the 'OR' function, with one\n",
    "# exception: both rectangle and circle are not allowed to BOTH\n",
    "# have values greater than 0.\n",
    "bitwiseXor = cv2.bitwise_xor(rectangle, circle)\n",
    "cv2.imshow(\"XOR\", bitwiseXor)\n",
    "cv2.waitKey(0)"
   ]
  },
  {
   "cell_type": "markdown",
   "metadata": {},
   "source": [
    "## Objectives\n",
    "By the end of this topic you should be able to:\n",
    "\n",
    "- Leverage masks to extract rectangular regions from images, similar to cropping.\n",
    "- Leverage masks to extract non-rectangular and arbitrarily shaped regions from images, which basic cropping cannot accomplish."
   ]
  },
  {
   "cell_type": "code",
   "execution_count": null,
   "metadata": {},
   "outputs": [],
   "source": [
    "# USAGE\n",
    "# python masking.py --image florida_trip.png\n",
    "\n",
    "# import the necessary packages\n",
    "import numpy as np\n",
    "import argparse\n",
    "import cv2\n",
    "\n",
    "# construct the argument parser and parse the arguments\n",
    "ap = argparse.ArgumentParser()\n",
    "ap.add_argument(\"-i\", \"--image\", required=True, help=\"Path to the image\")\n",
    "args = vars(ap.parse_args())\n",
    "\n",
    "# load the image and display it it\n",
    "image = cv2.imread(args[\"image\"])\n",
    "cv2.imshow(\"Original\", image)\n",
    "\n",
    "# Masking allows us to focus only on parts of an image that interest us.\n",
    "# A mask is the same size as our image, but has only two pixel values,\n",
    "# 0 and 255. Pixels with a value of 0 are ignored in the orignal image,\n",
    "# and mask pixels with a value of 255 are allowed to be kept. For example,\n",
    "# let's construct a rectangular mask that displays only the person in\n",
    "# the image\n",
    "mask = np.zeros(image.shape[:2], dtype=\"uint8\")\n",
    "cv2.rectangle(mask, (0, 90), (290, 450), 255, -1)\n",
    "cv2.imshow(\"Mask\", mask)\n",
    "\n",
    "# Apply out mask -- notice how only the person in the image is cropped out\n",
    "masked = cv2.bitwise_and(image, image, mask=mask)\n",
    "cv2.imshow(\"Mask Applied to Image\", masked)\n",
    "cv2.waitKey(0)\n",
    "\n",
    "# Now, let's make a circular mask with a radius of 100 pixels and apply the\n",
    "# mask again\n",
    "mask = np.zeros(image.shape[:2], dtype=\"uint8\")\n",
    "cv2.circle(mask, (145, 200), 100, 255, -1)\n",
    "masked = cv2.bitwise_and(image, image, mask=mask)\n",
    "cv2.imshow(\"Mask\", mask)\n",
    "cv2.imshow(\"Mask Applied to Image\", masked)\n",
    "cv2.waitKey(0)"
   ]
  },
  {
   "cell_type": "markdown",
   "metadata": {},
   "source": [
    "## Objectives:\n",
    "- By the end of this topic you should understand how to both split and merge channels of an image by using the cv2.split  and cv2.merge  functions."
   ]
  },
  {
   "cell_type": "code",
   "execution_count": null,
   "metadata": {},
   "outputs": [],
   "source": [
    "image = cv2.imread(args[\"image\"])\n",
    "(B, G, R) = cv2.split(image)\n",
    "\n",
    "(b, g, r) = image[94, 180]\n",
    "print(\"Pixel at (180, 94) - Red: {r}\".format(r=r))\n",
    "cv2.waitKey(0)\n",
    "\n",
    "(b, g, r) = image[78, 13]\n",
    "print(\"Pixel at (13, 78) - Blue: {b}\".format(b=b))\n",
    "cv2.waitKey(0)\n",
    "\n",
    "(b, g, r) = image[5, 80]\n",
    "print(\"Pixel at (80, 5) - Green: {g}\".format(g=g)\n",
    "cv2.waitKey(0)"
   ]
  },
  {
   "cell_type": "code",
   "execution_count": 77,
   "metadata": {},
   "outputs": [
    {
     "name": "stdout",
     "output_type": "stream",
     "text": [
      "Pixel at (180, 94) - Red: 198\n",
      "Pixel at (13, 78) - Blue: 67\n",
      "Pixel at (80, 5) - Green: 249\n"
     ]
    }
   ],
   "source": [
    "%%bash\n",
    "python splitting_and_merging/splitting_and_merging.py --image splitting_and_merging/florida_trip_small.png"
   ]
  },
  {
   "cell_type": "code",
   "execution_count": null,
   "metadata": {},
   "outputs": [],
   "source": []
  }
 ],
 "metadata": {
  "kernelspec": {
   "display_name": "Python 3",
   "language": "python",
   "name": "python3"
  },
  "language_info": {
   "codemirror_mode": {
    "name": "ipython",
    "version": 3
   },
   "file_extension": ".py",
   "mimetype": "text/x-python",
   "name": "python",
   "nbconvert_exporter": "python",
   "pygments_lexer": "ipython3",
   "version": "3.8.5"
  }
 },
 "nbformat": 4,
 "nbformat_minor": 4
}
